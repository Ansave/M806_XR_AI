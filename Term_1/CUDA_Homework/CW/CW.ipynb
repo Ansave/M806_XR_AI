{
  "nbformat": 4,
  "nbformat_minor": 0,
  "metadata": {
    "colab": {
      "provenance": [],
      "include_colab_link": true
    },
    "kernelspec": {
      "name": "python3",
      "display_name": "Python 3"
    },
    "language_info": {
      "name": "python"
    }
  },
  "cells": [
    {
      "cell_type": "markdown",
      "metadata": {
        "id": "view-in-github",
        "colab_type": "text"
      },
      "source": [
        "<a href=\"https://colab.research.google.com/github/Ansave/M806_XR_AI/blob/main/CUDA_Homework/CW/CW.ipynb\" target=\"_parent\"><img src=\"https://colab.research.google.com/assets/colab-badge.svg\" alt=\"Open In Colab\"/></a>"
      ]
    },
    {
      "cell_type": "markdown",
      "source": [
        "# Постановка задачи\n",
        "\n",
        "1. Обучить модель на трёх независимых процессах (обучения моделей производятся на непересекающихся множествах обучающих данных)\n",
        "\n",
        "2. Для набора тестовых данных провести ансамблевое голосование\n",
        "\n"
      ],
      "metadata": {
        "id": "1ur8Rva_pjoc"
      }
    },
    {
      "cell_type": "markdown",
      "source": [
        "Датасет: *Mnist*\n",
        "\n",
        "Модель: *CNN*\n"
      ],
      "metadata": {
        "id": "99s4yLd1vSrA"
      }
    },
    {
      "cell_type": "code",
      "source": [
        "# ! pip install mpi4py"
      ],
      "metadata": {
        "id": "vuTcnVT_rqmU"
      },
      "execution_count": 256,
      "outputs": []
    },
    {
      "cell_type": "markdown",
      "source": [
        "# Подключение зависимостей"
      ],
      "metadata": {
        "id": "RDK0rsLrhVlY"
      }
    },
    {
      "cell_type": "code",
      "execution_count": 257,
      "metadata": {
        "id": "ovgcYO9Kp1k2",
        "colab": {
          "base_uri": "https://localhost:8080/"
        },
        "outputId": "3b19c4e8-0f18-4aed-bfda-355ca3027a43"
      },
      "outputs": [
        {
          "output_type": "stream",
          "name": "stdout",
          "text": [
            "Overwriting CW.py\n"
          ]
        }
      ],
      "source": [
        "%%writefile CW.py\n",
        "\n",
        "import torch\n",
        "import numpy as np\n",
        "import operator\n",
        "import mpi4py\n",
        "\n",
        "from mpi4py import MPI\n",
        "from torch import nn\n",
        "from torch import optim\n",
        "from torch.utils.data import DataLoader\n",
        "from torch.utils.data.dataset import random_split\n",
        "from torchvision import datasets\n",
        "from torchvision.transforms import ToTensor\n",
        "import torch.utils.data as data_utils"
      ]
    },
    {
      "cell_type": "markdown",
      "source": [
        "# Загрузка датасета MNIST"
      ],
      "metadata": {
        "id": "1N_nXee3epNn"
      }
    },
    {
      "cell_type": "code",
      "source": [
        "%%writefile -a CW.py\n",
        "\n",
        "train_data = datasets.MNIST(\n",
        "    root = 'data',\n",
        "    train = True,                         \n",
        "    transform = ToTensor(), \n",
        "    download = True,            \n",
        ")\n",
        "\n",
        "test_data = datasets.MNIST(\n",
        "    root = 'data', \n",
        "    train = False, \n",
        "    transform = ToTensor()\n",
        ")\n",
        "\n",
        "loaders = {}\n",
        "\n",
        "loaders['train'] = torch.utils.data.DataLoader(\n",
        "  train_data, \n",
        "  batch_size=100, \n",
        "  shuffle=True, \n",
        "  num_workers=1\n",
        ")\n",
        "\n",
        "loaders['test'] = torch.utils.data.DataLoader(\n",
        "  test_data, \n",
        "  batch_size=100, \n",
        "  shuffle=True, \n",
        "  num_workers=1\n",
        ")\n"
      ],
      "metadata": {
        "colab": {
          "base_uri": "https://localhost:8080/"
        },
        "id": "xiuWhZcPz0PJ",
        "outputId": "5ec6e588-af88-4e3c-9013-6ef15806d766"
      },
      "execution_count": 258,
      "outputs": [
        {
          "output_type": "stream",
          "name": "stdout",
          "text": [
            "Appending to CW.py\n"
          ]
        }
      ]
    },
    {
      "cell_type": "markdown",
      "source": [
        "# Определение CNN модели"
      ],
      "metadata": {
        "id": "DBLQhaivhrJJ"
      }
    },
    {
      "cell_type": "code",
      "source": [
        "%%writefile -a CW.py\n",
        "\n",
        "import torch.nn as nn\n",
        "\n",
        "class CNN(nn.Module):\n",
        "    \n",
        "    def __init__(self):\n",
        "        super(CNN, self).__init__()\n",
        "        self.conv1 = nn.Sequential(         \n",
        "            nn.Conv2d(\n",
        "                in_channels=1,              \n",
        "                out_channels=16,            \n",
        "                kernel_size=5,              \n",
        "                stride=1,                   \n",
        "                padding=2,                  \n",
        "            ),                              \n",
        "            nn.ReLU(),                      \n",
        "            nn.MaxPool2d(kernel_size=2),    \n",
        "        )\n",
        "        self.conv2 = nn.Sequential(         \n",
        "            nn.Conv2d(16, 32, 5, 1, 2),     \n",
        "            nn.ReLU(),                      \n",
        "            nn.MaxPool2d(2),                \n",
        "        )\n",
        "        self.out = nn.Linear(32 * 7 * 7, 10)\n",
        "    \n",
        "    def forward(self, x):\n",
        "        x = self.conv1(x)\n",
        "        x = self.conv2(x)\n",
        "        x = x.view(x.size(0), -1)       \n",
        "        \n",
        "        output = self.out(x)\n",
        "        return output, x    "
      ],
      "metadata": {
        "id": "pHh9ZYqK0YLC",
        "colab": {
          "base_uri": "https://localhost:8080/"
        },
        "outputId": "b1137878-71f6-42bd-b039-12439397b6a9"
      },
      "execution_count": 259,
      "outputs": [
        {
          "output_type": "stream",
          "name": "stdout",
          "text": [
            "Appending to CW.py\n"
          ]
        }
      ]
    },
    {
      "cell_type": "markdown",
      "source": [
        "Обучение модели"
      ],
      "metadata": {
        "id": "N_PTGy7okMHg"
      }
    },
    {
      "cell_type": "code",
      "source": [
        "%%writefile -a CW.py\n",
        "\n",
        "from torch.autograd import Variable\n",
        "\n",
        "def train(epochs_count, cnn, loaders_trains):\n",
        "  loss_func = nn.CrossEntropyLoss()\n",
        "  optimizer = optim.Adam(cnn.parameters(), lr = 0.01)\n",
        "  \n",
        "  cnn.train()\n",
        "  total_step = len(loaders_trains)\n",
        "  \n",
        "  for epoch in range(epochs_count):\n",
        "    for i, (images, labels) in enumerate(loaders_trains): \n",
        "      batch_x = Variable(images)\n",
        "      batch_y = Variable(labels)\n",
        "      output = cnn(batch_x)[0]\n",
        "      \n",
        "      loss = loss_func(output, batch_y)\n",
        "      optimizer.zero_grad()\n",
        "      loss.backward()\n",
        "      optimizer.step()"
      ],
      "metadata": {
        "colab": {
          "base_uri": "https://localhost:8080/"
        },
        "id": "PtVXa2vM0pI0",
        "outputId": "e74a3c7d-fe5b-46f9-b23f-7c1088ef7509"
      },
      "execution_count": 260,
      "outputs": [
        {
          "output_type": "stream",
          "name": "stdout",
          "text": [
            "Appending to CW.py\n"
          ]
        }
      ]
    },
    {
      "cell_type": "markdown",
      "source": [
        "Оценка точности обученной модели"
      ],
      "metadata": {
        "id": "LEwvYv7xi2zV"
      }
    },
    {
      "cell_type": "code",
      "source": [
        "%%writefile -a CW.py\n",
        "def evaluate(cnn_for_test):\n",
        "  cnn_for_test.eval()\n",
        "  \n",
        "  with torch.no_grad():\n",
        "    for images, labels in loaders['test']:\n",
        "      test_output, last_layer = cnn_for_test(images)\n",
        "      predicted = torch.max(test_output, 1)[1].data.squeeze()\n",
        "    \n",
        "    return (predicted == labels).sum().item() / float(labels.size(0))"
      ],
      "metadata": {
        "colab": {
          "base_uri": "https://localhost:8080/"
        },
        "id": "SkyZEpyBjXXQ",
        "outputId": "cafb5af9-9b2c-474e-98e6-9f888ccf8d0f"
      },
      "execution_count": 261,
      "outputs": [
        {
          "output_type": "stream",
          "name": "stdout",
          "text": [
            "Appending to CW.py\n"
          ]
        }
      ]
    },
    {
      "cell_type": "markdown",
      "source": [
        "# Параллельная программа\n"
      ],
      "metadata": {
        "id": "wTI5Qej3jcQ0"
      }
    },
    {
      "cell_type": "code",
      "source": [
        "%%writefile -a CW.py\n",
        "\n",
        "comm = MPI.COMM_WORLD \n",
        "numprocs = comm.Get_size()\n",
        "rank = comm.Get_rank() "
      ],
      "metadata": {
        "colab": {
          "base_uri": "https://localhost:8080/"
        },
        "id": "QkDosHgWjRnk",
        "outputId": "9866cf37-d3bf-46ef-f398-e86da4748a6f"
      },
      "execution_count": 262,
      "outputs": [
        {
          "output_type": "stream",
          "name": "stdout",
          "text": [
            "Appending to CW.py\n"
          ]
        }
      ]
    },
    {
      "cell_type": "markdown",
      "source": [
        "## Установка датасета"
      ],
      "metadata": {
        "id": "NsV1oZw8klQ_"
      }
    },
    {
      "cell_type": "code",
      "source": [
        "%%writefile -a CW.py\n",
        "\n",
        "train_part = int(len(train_data) / numprocs)\n",
        "image_indices = torch.arange(6000)\n",
        "\n",
        "cut_train = data_utils.Subset(train_data, image_indices)\n",
        "trains = random_split(cut_train, [int(6000/(numprocs-1)) for i in range(numprocs-1)])"
      ],
      "metadata": {
        "colab": {
          "base_uri": "https://localhost:8080/"
        },
        "id": "PdMUApGxTkXW",
        "outputId": "c864301c-fbe0-4083-f12c-b4e393998e38"
      },
      "execution_count": 263,
      "outputs": [
        {
          "output_type": "stream",
          "name": "stdout",
          "text": [
            "Appending to CW.py\n"
          ]
        }
      ]
    },
    {
      "cell_type": "markdown",
      "source": [
        "Управляющие параметры"
      ],
      "metadata": {
        "id": "YQep-9Xwi3Dy"
      }
    },
    {
      "cell_type": "code",
      "source": [
        "%%writefile -a CW.py\n",
        "\n",
        "numbers_count = 20\n",
        "num_epochs = 5"
      ],
      "metadata": {
        "colab": {
          "base_uri": "https://localhost:8080/"
        },
        "id": "TWEz5dLDlB4q",
        "outputId": "60fc9030-d6eb-47cb-f18c-1a3c1cb6c93b"
      },
      "execution_count": 264,
      "outputs": [
        {
          "output_type": "stream",
          "name": "stdout",
          "text": [
            "Appending to CW.py\n"
          ]
        }
      ]
    },
    {
      "cell_type": "markdown",
      "source": [
        "## Исполняющие процессы"
      ],
      "metadata": {
        "id": "idC7ZgC_UU9D"
      }
    },
    {
      "cell_type": "code",
      "source": [
        "%%writefile -a CW.py\n",
        "\n",
        "if rank != 0:"
      ],
      "metadata": {
        "colab": {
          "base_uri": "https://localhost:8080/"
        },
        "id": "DZOFlGGLRn9N",
        "outputId": "b54ea939-b1f9-49f0-cb7b-306d471da0c2"
      },
      "execution_count": 265,
      "outputs": [
        {
          "output_type": "stream",
          "name": "stdout",
          "text": [
            "Appending to CW.py\n"
          ]
        }
      ]
    },
    {
      "cell_type": "markdown",
      "source": [
        "Обучение"
      ],
      "metadata": {
        "id": "r_smuRkUYjRO"
      }
    },
    {
      "cell_type": "code",
      "source": [
        "%%writefile -a CW.py\n",
        "  cnn = CNN()\n",
        "  subset = DataLoader(\n",
        "    trains[rank-1],                              \n",
        "    batch_size = 100,                              \n",
        "    shuffle = True,                              \n",
        "    num_workers = 1)\n",
        "\n",
        "  train(num_epochs, cnn, subset)\n",
        "  print(f'Точность модели {rank} процесса: {evaluate(cnn)}')\n"
      ],
      "metadata": {
        "colab": {
          "base_uri": "https://localhost:8080/"
        },
        "id": "weym8w1DZj0d",
        "outputId": "7ef3a929-c920-4645-c5f2-5f2ce902d347"
      },
      "execution_count": 266,
      "outputs": [
        {
          "output_type": "stream",
          "name": "stdout",
          "text": [
            "Appending to CW.py\n"
          ]
        }
      ]
    },
    {
      "cell_type": "markdown",
      "source": [
        "Предсказание"
      ],
      "metadata": {
        "id": "3Vk8mXJdYk-N"
      }
    },
    {
      "cell_type": "code",
      "source": [
        "%%writefile -a CW.py\n",
        "  \n",
        "  images = comm.recv(source = 0) \n",
        "  test_output, last_layer = cnn(images[:numbers_count])\n",
        "  \n",
        "  predicted = torch.max(test_output, 1)[1].data.numpy().squeeze()\n",
        "  preds_proc = comm.send(predicted, dest = 0)\n"
      ],
      "metadata": {
        "colab": {
          "base_uri": "https://localhost:8080/"
        },
        "id": "zlVb1PU7YSvI",
        "outputId": "e9714843-a773-498f-9211-bb7079ceff86"
      },
      "execution_count": 267,
      "outputs": [
        {
          "output_type": "stream",
          "name": "stdout",
          "text": [
            "Appending to CW.py\n"
          ]
        }
      ]
    },
    {
      "cell_type": "markdown",
      "source": [
        "## Управляющий процесс"
      ],
      "metadata": {
        "id": "yOjCLiECUOyH"
      }
    },
    {
      "cell_type": "code",
      "source": [
        "%%writefile -a CW.py\n",
        "\n",
        "else:"
      ],
      "metadata": {
        "colab": {
          "base_uri": "https://localhost:8080/"
        },
        "id": "juBqQ_XIRrrz",
        "outputId": "aace227e-733e-455a-a4e2-db9c4620be86"
      },
      "execution_count": 268,
      "outputs": [
        {
          "output_type": "stream",
          "name": "stdout",
          "text": [
            "Appending to CW.py\n"
          ]
        }
      ]
    },
    {
      "cell_type": "markdown",
      "source": [
        "Передача экземпляра тестовых данных на исполняющие процессы"
      ],
      "metadata": {
        "id": "3p4jS6VgZ6Pm"
      }
    },
    {
      "cell_type": "code",
      "source": [
        "%%writefile -a CW.py\n",
        "\n",
        "  sample = next(iter(DataLoader(\n",
        "    test_data,                              \n",
        "    batch_size = 100,                              \n",
        "    shuffle = True,                              \n",
        "    num_workers = 1)))\n",
        "\n",
        "  images, labels = sample\n",
        "  actual_number = labels[:numbers_count].numpy()\n",
        "\n",
        "  for k in range(1, numprocs):\n",
        "    comm.send(images, dest = k)"
      ],
      "metadata": {
        "colab": {
          "base_uri": "https://localhost:8080/"
        },
        "id": "lEVVgVw3ZtVQ",
        "outputId": "92b5db19-79c6-4298-a34f-9ee4390fd325"
      },
      "execution_count": 269,
      "outputs": [
        {
          "output_type": "stream",
          "name": "stdout",
          "text": [
            "Appending to CW.py\n"
          ]
        }
      ]
    },
    {
      "cell_type": "markdown",
      "source": [
        "Агрегация полученных результатов"
      ],
      "metadata": {
        "id": "wCLBZWcFaNMd"
      }
    },
    {
      "cell_type": "code",
      "source": [
        "%%writefile -a CW.py\n",
        "\n",
        "  predictions = []\n",
        "  for k in range(1, numprocs):\n",
        "    predicted = comm.recv(source = k)\n",
        "    predictions.append(predicted)\n",
        "\n",
        "  for k in range(1, numprocs):\n",
        "    print(f'Предсказания {k} процесса: {predictions[k - 1]}')"
      ],
      "metadata": {
        "colab": {
          "base_uri": "https://localhost:8080/"
        },
        "id": "6n5kIoutaFJL",
        "outputId": "b1cd50fe-ef5b-4f2e-b2c7-256ce1e84915"
      },
      "execution_count": 270,
      "outputs": [
        {
          "output_type": "stream",
          "name": "stdout",
          "text": [
            "Appending to CW.py\n"
          ]
        }
      ]
    },
    {
      "cell_type": "markdown",
      "source": [
        "Ансамблевое голосование"
      ],
      "metadata": {
        "id": "XEvCJBXGa3k6"
      }
    },
    {
      "cell_type": "code",
      "source": [
        "%%writefile -a CW.py\n",
        "\n",
        "  predicted_result = []  \n",
        "  for num in range(len(predictions[0])):\n",
        "    check_dict = {}\n",
        "    for k in range(1, numprocs):\n",
        "      current_number = predictions[k - 1][num] \n",
        "      num_count = check_dict.get(current_number, 0)\n",
        "      num_count = num_count + 1\n",
        "      check_dict[current_number] = num_count\n",
        "\n",
        "    best_num = max(check_dict.items(), key = operator.itemgetter(1))[0]\n",
        "    predicted_result.append(best_num)\n",
        "\n",
        "  print(f'\\nРезультат голосования:\\t {np.array(predicted_result)}')\n",
        "  print(f'Реальные значения:\\t {actual_number}')"
      ],
      "metadata": {
        "colab": {
          "base_uri": "https://localhost:8080/"
        },
        "id": "EG--fYwfax6b",
        "outputId": "648483d1-59f0-4d9c-eb73-7d3e38146b68"
      },
      "execution_count": 271,
      "outputs": [
        {
          "output_type": "stream",
          "name": "stdout",
          "text": [
            "Appending to CW.py\n"
          ]
        }
      ]
    },
    {
      "cell_type": "code",
      "source": [
        "%%writefile -a CW.py\n",
        "\n",
        "MPI.Finalize()"
      ],
      "metadata": {
        "colab": {
          "base_uri": "https://localhost:8080/"
        },
        "id": "zxzoILiMRvmA",
        "outputId": "c7547c99-73a1-4efa-de35-5f5840fceca4"
      },
      "execution_count": 272,
      "outputs": [
        {
          "output_type": "stream",
          "name": "stdout",
          "text": [
            "Appending to CW.py\n"
          ]
        }
      ]
    },
    {
      "cell_type": "markdown",
      "source": [
        "# Вызов параллельной программы"
      ],
      "metadata": {
        "id": "WckYX0WSkraH"
      }
    },
    {
      "cell_type": "code",
      "source": [
        "!mpirun -np 4 --allow-run-as-root python CW.py"
      ],
      "metadata": {
        "id": "P8JfQSzKrZxw",
        "colab": {
          "base_uri": "https://localhost:8080/"
        },
        "outputId": "27c2f2eb-10e3-4b0b-bb9c-d47680f28cb1"
      },
      "execution_count": 273,
      "outputs": [
        {
          "output_type": "stream",
          "name": "stdout",
          "text": [
            "Точность модели 3 процесса: 0.98\n",
            "Точность модели 1 процесса: 0.97\n",
            "Точность модели 2 процесса: 0.97\n",
            "Предсказания 1 процесса: [0 9 7 2 1 3 8 3 9 4 2 7 2 7 0 8 7 7 4 5]\n",
            "Предсказания 2 процесса: [0 9 7 8 1 0 8 3 9 4 2 7 2 7 0 8 7 7 4 5]\n",
            "Предсказания 3 процесса: [0 9 7 2 1 0 8 3 9 4 2 7 2 7 0 8 7 7 4 5]\n",
            "\n",
            "Результат голосования:\t [0 9 7 2 1 0 8 3 9 4 2 7 2 7 0 8 7 7 4 5]\n",
            "Реальные значения:\t [0 9 7 7 1 3 8 3 9 4 2 7 2 7 0 8 7 7 4 5]\n"
          ]
        }
      ]
    }
  ]
}