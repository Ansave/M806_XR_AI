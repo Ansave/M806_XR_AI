{
 "cells": [
  {
   "attachments": {},
   "cell_type": "markdown",
   "metadata": {},
   "source": [
    "# Лабораторная работа №7\n",
    "\n",
    "## Постановка задачи\n",
    "\n",
    "1. Реазизовать Rejection sampling\n",
    "\n",
    "2. Реазиовать метод Метрополиса-Гастингса\n",
    "\n",
    "3. Протестировать работу методов на двух функциях плотности распределения\n",
    "\n",
    "## Источники\n",
    "\n",
    "* [Метод Парзена-Розенблата](https://yandex.ru/q/machine-learning/12341383425/)\n"
   ]
  },
  {
   "attachments": {},
   "cell_type": "markdown",
   "metadata": {},
   "source": [
    "# Подключение зависимостей"
   ]
  },
  {
   "cell_type": "code",
   "execution_count": 1,
   "metadata": {},
   "outputs": [],
   "source": [
    "import math\n",
    "import copy\n",
    "import numpy as np\n",
    "import random\n",
    "from matplotlib import pyplot as plt\n",
    "from enum import Enum\n",
    "from typing import Tuple, Mapping"
   ]
  },
  {
   "attachments": {},
   "cell_type": "markdown",
   "metadata": {},
   "source": [
    "## Экспоненциальное распределение\n",
    "\n",
    "$F_X(x) = \\left\\{\\begin{matrix}\n",
    "1-e^{-\\lambda x}&,\\; x \\ge 0, \\\\\n",
    "0 &,\\; x < 0.\n",
    "\\end{matrix}\\right.$"
   ]
  },
  {
   "cell_type": "code",
   "execution_count": 4,
   "metadata": {},
   "outputs": [],
   "source": [
    "class ExponentialDistribution():\n",
    "  \n",
    "  @staticmethod\n",
    "  def generate_value(lmd: float = 0.1) -> float:\n",
    "    return math.log(1 / (1 - random.uniform(0, 1))) / lmd\n",
    "\n",
    "  @staticmethod\n",
    "  def generate_list(lmd: float = 0.1, count: int = 100) -> list:\n",
    "    return [ExponentialDistribution.generate_value(lmd) for i in range(count)]"
   ]
  },
  {
   "attachments": {},
   "cell_type": "markdown",
   "metadata": {},
   "source": [
    "## Распределение Вейбулла\n",
    "\n",
    "$F(x;k,\\lambda) = 1- e^{-(x/\\lambda)^k}$"
   ]
  },
  {
   "cell_type": "code",
   "execution_count": 3,
   "metadata": {},
   "outputs": [],
   "source": [
    "class WeibullDistribution():\n",
    "  \n",
    "  @staticmethod\n",
    "  def generate_value(lmd: float = 1.0, k: float = 1.5) -> float:\n",
    "    return (math.log(1 / (1 - random.uniform(0, 1))) / lmd ** k) ** (1 / k)\n",
    "\n",
    "  @staticmethod\n",
    "  def generate_list(lmd: float = 1., k: float = 1.5, count: int = 100) -> list:\n",
    "    return [WeibullDistribution.generate_value(lmd, k) for i in range(count)]"
   ]
  },
  {
   "cell_type": "code",
   "execution_count": 2,
   "metadata": {},
   "outputs": [],
   "source": [
    "def normal_dist(x: float, m: float = 0.35 , d: int = 1) -> float:\n",
    "    return (math.exp((x - m)**2/(-2*d**2))/(d*(2*math.pi)**0.5))"
   ]
  },
  {
   "cell_type": "code",
   "execution_count": null,
   "metadata": {},
   "outputs": [],
   "source": [
    "def rejection_sampling_Weibull(count = 200, m = 0.35, d = 1, c = 1):\n",
    "  result = []\n",
    "\n",
    "  while len(result) < count:\n",
    "    x = np.random.normal(m, 0.5)\n",
    "    u = np.random.uniform(0, c * normal_dist(x, m, d))\n",
    "    px = distribution_density_Weibull(x)\n",
    "    if (isinstance(px, complex) and (px.imag != 0)): continue \n",
    "    if(px > u):\n",
    "      result.append(x)\n",
    "  return result"
   ]
  }
 ],
 "metadata": {
  "kernelspec": {
   "display_name": "Python 3",
   "language": "python",
   "name": "python3"
  },
  "language_info": {
   "codemirror_mode": {
    "name": "ipython",
    "version": 3
   },
   "file_extension": ".py",
   "mimetype": "text/x-python",
   "name": "python",
   "nbconvert_exporter": "python",
   "pygments_lexer": "ipython3",
   "version": "3.10.4"
  },
  "orig_nbformat": 4,
  "vscode": {
   "interpreter": {
    "hash": "26de051ba29f2982a8de78e945f0abaf191376122a1563185a90213a26c5da77"
   }
  }
 },
 "nbformat": 4,
 "nbformat_minor": 2
}
